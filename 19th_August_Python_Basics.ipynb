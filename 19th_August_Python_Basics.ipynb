{
 "cells": [
  {
   "cell_type": "markdown",
   "id": "cbd484a3",
   "metadata": {},
   "source": [
    "# Python Basics Variable"
   ]
  },
  {
   "cell_type": "markdown",
   "id": "a87b598b",
   "metadata": {},
   "source": [
    "1. Declare two variables, `x` and `y`, and assign them integer values. Swap the\n",
    "values of these variables without using any temporary variable."
   ]
  },
  {
   "cell_type": "code",
   "execution_count": 3,
   "id": "d48d0882",
   "metadata": {},
   "outputs": [
    {
     "name": "stdout",
     "output_type": "stream",
     "text": [
      "After swapping the value of x and y are 4 3\n"
     ]
    }
   ],
   "source": [
    "x=3\n",
    "y=4\n",
    "x,y=y,x\n",
    "print('After swapping the value of x and y are',x,y)"
   ]
  },
  {
   "cell_type": "markdown",
   "id": "58fa2809",
   "metadata": {},
   "source": [
    "2. Create a program that calculates the area of a rectangle. Take the length and\n",
    "width as inputs from the user and store them in variables. Calculate and\n",
    "display the area."
   ]
  },
  {
   "cell_type": "code",
   "execution_count": 5,
   "id": "a86f3262",
   "metadata": {},
   "outputs": [
    {
     "name": "stdout",
     "output_type": "stream",
     "text": [
      "enter the value of length 4\n",
      "enter the value of width 3\n",
      "The value of area is 12\n"
     ]
    }
   ],
   "source": [
    "length=int(input('enter the value of length '))\n",
    "width=int(input('enter the value of width '))\n",
    "area=length*width\n",
    "print('The value of area is',area)"
   ]
  },
  {
   "cell_type": "markdown",
   "id": "c686cf22",
   "metadata": {},
   "source": [
    "3. Write a Python program that converts temperatures from Celsius to\n",
    "Fahrenheit. Take the temperature in Celsius as input, store it in a variable,\n",
    "convert it to Fahrenheit, and display the result."
   ]
  },
  {
   "cell_type": "code",
   "execution_count": 9,
   "id": "bd1a0b7c",
   "metadata": {},
   "outputs": [
    {
     "name": "stdout",
     "output_type": "stream",
     "text": [
      "enter the temperature in celcius 32\n",
      "The temperature in fahrenheit is  89.6\n"
     ]
    }
   ],
   "source": [
    "celsius=int(input('enter the temperature in celcius '))\n",
    "fahrenheit=celsius*(9/5)+32\n",
    "print('The temperature in fahrenheit is ',fahrenheit)"
   ]
  },
  {
   "cell_type": "markdown",
   "id": "7c8c871d",
   "metadata": {},
   "source": [
    "# String Based Questions"
   ]
  },
  {
   "cell_type": "markdown",
   "id": "3d13d096",
   "metadata": {},
   "source": [
    "1. Write a Python program that takes a string as input and prints the length of\n",
    "the string."
   ]
  },
  {
   "cell_type": "code",
   "execution_count": 12,
   "id": "9acd4c12",
   "metadata": {},
   "outputs": [
    {
     "name": "stdout",
     "output_type": "stream",
     "text": [
      "enter a string priyabrata\n",
      "The length of a string is 10\n"
     ]
    }
   ],
   "source": [
    "string=str(input('enter a string '))\n",
    "print(\"The length of a string is\",len(string))\n"
   ]
  },
  {
   "cell_type": "markdown",
   "id": "77b1192a",
   "metadata": {},
   "source": [
    "2. Create a program that takes a sentence from the user and counts the number\n",
    "of vowels (a, e, i, o, u) in the string."
   ]
  },
  {
   "cell_type": "code",
   "execution_count": 15,
   "id": "6bcfc2d2",
   "metadata": {},
   "outputs": [
    {
     "name": "stdout",
     "output_type": "stream",
     "text": [
      "enter a sentence I am a boy\n",
      "the number of vowels in the sentence: 4\n"
     ]
    }
   ],
   "source": [
    "string=str.lower(str(input(\"enter a sentence \")))\n",
    "count=0\n",
    "for i in string:\n",
    "    if(i=='a' or i=='e' or i=='i' or i=='o' or i=='u'):\n",
    "        count+=1\n",
    "print('the number of vowels in the sentence:',count)"
   ]
  },
  {
   "cell_type": "markdown",
   "id": "7d748ecd",
   "metadata": {},
   "source": [
    "4. Write a program that takes a string as input and checks if it is a palindrome\n",
    "(reads the same forwards and backwards)."
   ]
  },
  {
   "cell_type": "code",
   "execution_count": 19,
   "id": "f3f3e820",
   "metadata": {},
   "outputs": [
    {
     "name": "stdout",
     "output_type": "stream",
     "text": [
      "enter a string liril\n",
      "liril is a palindrome string\n"
     ]
    }
   ],
   "source": [
    "str1=str(input('enter a string '))\n",
    "str2=str1[::-1]\n",
    "if(str1==str2):\n",
    "    print(str1,'is a palindrome string')\n",
    "else:\n",
    "    print(str1,'is not a palindrome string')"
   ]
  },
  {
   "cell_type": "markdown",
   "id": "c881a6a1",
   "metadata": {},
   "source": [
    "5. Create a program that takes a string as input and removes all the spaces from\n",
    "it. Print the modified string without spaces."
   ]
  },
  {
   "cell_type": "code",
   "execution_count": 1,
   "id": "0fd24ca0",
   "metadata": {},
   "outputs": [
    {
     "name": "stdout",
     "output_type": "stream",
     "text": [
      "enter a string   my name is priyabrata  \n",
      "the final string after removing space is mynameispriyabrata\n"
     ]
    }
   ],
   "source": [
    "string=str(input('enter a string '))\n",
    "new_string=string.replace(\" \",\"\")\n",
    "print('the final string after removing space is',new_string)"
   ]
  },
  {
   "cell_type": "code",
   "execution_count": null,
   "id": "79c15c3f",
   "metadata": {},
   "outputs": [],
   "source": []
  }
 ],
 "metadata": {
  "kernelspec": {
   "display_name": "Python 3 (ipykernel)",
   "language": "python",
   "name": "python3"
  },
  "language_info": {
   "codemirror_mode": {
    "name": "ipython",
    "version": 3
   },
   "file_extension": ".py",
   "mimetype": "text/x-python",
   "name": "python",
   "nbconvert_exporter": "python",
   "pygments_lexer": "ipython3",
   "version": "3.9.12"
  }
 },
 "nbformat": 4,
 "nbformat_minor": 5
}
